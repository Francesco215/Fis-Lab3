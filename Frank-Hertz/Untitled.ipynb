{
 "cells": [
  {
   "cell_type": "code",
   "execution_count": 3,
   "metadata": {},
   "outputs": [],
   "source": [
    "import numpy as np\n",
    "import menzalib as mz\n",
    "import pylab as pl\n",
    "from scipy.optimize import curve_fit\n",
    "from statsmodels.nonparametric.smoothers_lowess import lowess\n",
    "#from scipy.interpolate import interpid"
   ]
  },
  {
   "cell_type": "code",
   "execution_count": 35,
   "metadata": {},
   "outputs": [],
   "source": [
    "def mass(v):\n",
    "    mass=0\n",
    "    for i in range(len(v)): \n",
    "        if v[i]>v[mass]: mass=i\n",
    "    return mass\n",
    "\n",
    "def lin(x,a,b):\n",
    "    return a*x + b"
   ]
  },
  {
   "cell_type": "code",
   "execution_count": 36,
   "metadata": {},
   "outputs": [
    {
     "data": {
      "image/png": "[encoded data removed]",
      "text/plain": [
       "<Figure size 432x288 with 1 Axes>"
      ]
     },
     "metadata": {
      "needs_background": "light"
     },
     "output_type": "display_data"
    }
   ],
   "source": [
    "\n",
    "\n",
    "x = np.linspace(0,10,100)\n",
    "y = np.sin(x) + np.random.normal(size=len(x))*0.2\n",
    "z = np.transpose(lowess(y, x,frac=0.1))\n",
    "pl.plot(x,y)\n",
    "pl.plot(x,z[1])\n",
    "pl.show()\n",
    "pl.close()"
   ]
  },
  {
   "cell_type": "code",
   "execution_count": 37,
   "metadata": {},
   "outputs": [],
   "source": [
    "files=[[0,1,0],\n",
    "       [2,3,2],\n",
    "       [4,5,3],\n",
    "       [6,7,4]]\n",
    "for i in range(len(files)):\n",
    "    t1,v1=np.genfromtxt('dati/TEK000'+str(files[i][0])+'.CSV',delimiter=',',unpack='true')[3:5]\n",
    "    scala1=np.genfromtxt('dati/TEK000'+str(files[i][0])+'.CSV',delimiter=',',unpack='true')[1][11]\n",
    "    t2,v2=np.genfromtxt('dati/TEK000'+str(files[i][1])+'.CSV',delimiter=',',unpack='true')[3:5]\n",
    "    scala2=np.genfromtxt('dati/TEK000'+str(files[i][1])+'.CSV',delimiter=',',unpack='true')[1][11]\n",
    "    v1=v1*10\n",
    "    t1,t2=(t1-t1[0]),(t2-t2[0])\n",
    "    \n",
    "    pl.plot(t1,v1)\n",
    "    pl.plot(t2,v2*10)\n",
    "    pl.xlabel('Voltaggio[V]')\n",
    "    pl.ylabel('Tempo[s]')\n",
    "    pl.savefig('immagini/voltaggio-tempo_'+str(i)+'.eps',format='eps')\n",
    "    #pl.show()\n",
    "    pl.close()\n",
    "    \n",
    "    mas=mass(v1)\n",
    "    x=np.linspace(v1[0],v1.max(),len(v1[:mas]))\n",
    "    pl.plot(x,v2[:mas])\n",
    "    pl.ylabel('V_c[V]')\n",
    "    pl.xlabel('U_a[V]')\n",
    "    pl.savefig('immagini/corrente-voltaggio_'+str(i)+'.eps',format='eps')\n",
    "    #pl.show()\n",
    "    pl.close()"
   ]
  },
  {
   "cell_type": "code",
   "execution_count": 56,
   "metadata": {},
   "outputs": [
    {
     "name": "stdout",
     "output_type": "stream",
     "text": [
      "[0.09237604 0.04618802 0.11547005]\n",
      "\n",
      "\n",
      "Copia tutto quello che c'è tra le linee\n",
      "--------------------------\n",
      "\\begin{tabular}{ccc}\n",
      "\\hline\n",
      "\t% qua ci va il titolo della tabella (ricorda di mettere \\\\ alla fine) %\n",
      " \\hline\n",
      "\t$7.1$ & $(9.0$ $\\pm$ $9.0)\\times 10^{-2}$ & $(9.0$ $\\pm$ $9.0)\\times 10^{-2}$ \\\\\n",
      "\t$10.7$ & $(5.0$ $\\pm$ $5.0)\\times 10^{-2}$ & $(5.0$ $\\pm$ $5.0)\\times 10^{-2}$ \\\\\n",
      "\t$6.5$ & $0.1$ $\\pm$ $0.1$ & $0.1$ $\\pm$ $0.1$ \\\\\n",
      "\\hline\n",
      "\\end{tabular}\n",
      "--------------------------\n",
      "\n",
      "\n"
     ]
    }
   ],
   "source": [
    "U_E = [7.1,10.7,6.5]\n",
    "\n",
    "Max=[[1.92, 3.60, 5.60],\n",
    "     [1.92, 3.68, 5.68, 7.84],\n",
    "     [1.92, 3.58, 5.76]]\n",
    "\n",
    "Min=[[2.48, 4.24, 6.32],\n",
    "     [2.88, 4.64, 6.56],\n",
    "     [2.40, 4.08, 6.16]]\n",
    "poptM=np.empty([len(U_E),2])\n",
    "errM=poptM\n",
    "poptm=poptM\n",
    "errm=poptM\n",
    "\n",
    "for i in range (len(U_E)):\n",
    "    x=np.arange(1,len(Max[i])+1)\n",
    "    pl.errorbar(x,Max[i],0.01,fmt='.')\n",
    "    poptM[i],pcov=curve_fit(lin,x,Max[i],sigma=np.ones(len(Max[i]))*0.01)\n",
    "    errM[i]=np.sqrt(np.diag(pcov))\n",
    "    x=np.linspace(0.9,len(Max[i])+0.1,10)\n",
    "    pl.plot(x,lin(x,*popt))\n",
    "    pl.xlabel('Numero del massimo')\n",
    "    pl.ylabel('U_A[V]')\n",
    "    pl.title('U_E='+str(U_E[i])+'V')\n",
    "    #pl.show()\n",
    "    pl.savefig('immagini/Massimi_'+str(i)+'.eps',format='eps')\n",
    "    pl.close()\n",
    "               \n",
    "    x=np.arange(1,len(Min[i])+1)\n",
    "    pl.errorbar(x,Min[i],0.01,fmt='.')\n",
    "    poptm[i],pcov=curve_fit(lin,x,Min[i],sigma=np.ones(len(Min[i]))*0.01)\n",
    "    errm[i]=np.sqrt(np.diag(pcov))\n",
    "    x=np.linspace(0.9,len(Min[i])+0.1,10)\n",
    "    pl.plot(x,lin(x,*popt))\n",
    "    pl.xlabel('Numero del minimo')\n",
    "    pl.ylabel('U_A[V]')\n",
    "    pl.title('U_E='+str(U_E[i])+'V')\n",
    "    #pl.show()\n",
    "    pl.savefig('immagini/Minimi_'+str(i)+'.eps',format='eps')\n",
    "    pl.close()\n",
    "\n",
    "poptm=np.transpose(poptm)\n",
    "poptM=np.transpose(popstM)\n",
    "errm=np.transpose(errm)\n",
    "errM=np.transpose(errM)\n",
    "print(poptM[0])\n",
    "mz.mat_tex([mz.ns_tex(U_E),mz.ne_tex(poptm[0],errm[0]),mz.ne_tex(poptM[0],errM[0])])"
   ]
  },
  {
   "cell_type": "code",
   "execution_count": null,
   "metadata": {},
   "outputs": [],
   "source": []
  },
  {
   "cell_type": "code",
   "execution_count": null,
   "metadata": {},
   "outputs": [],
   "source": []
  }
 ],
 "metadata": {
  "kernelspec": {
   "display_name": "Python 3",
   "language": "python",
   "name": "python3"
  }
 },
 "nbformat": 4,
 "nbformat_minor": 2
}

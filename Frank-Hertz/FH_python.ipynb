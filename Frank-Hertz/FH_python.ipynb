{
 "cells": [
  {
   "cell_type": "code",
   "execution_count": 38,
   "metadata": {},
   "outputs": [],
   "source": [
    "import numpy as np\n",
    "import menzalib as mz\n",
    "from scipy.optimize import curve_fit\n",
    "import pylab as py\n",
    "from scipy.signal import find_peaks "
   ]
  },
  {
   "cell_type": "code",
   "execution_count": 39,
   "metadata": {},
   "outputs": [
    {
     "data": {
      "image/png": "[encoded data removed]",
      "text/plain": [
       "<Figure size 432x288 with 1 Axes>"
      ]
     },
     "metadata": {
      "needs_background": "light"
     },
     "output_type": "display_data"
    },
    {
     "name": "stdout",
     "output_type": "stream",
     "text": [
      "16.499999745669456 [1.17353550e-07 1.64999997e+01] [[inf inf]\n",
      " [inf inf]] [16.5 16.5]\n"
     ]
    }
   ],
   "source": [
    "#dati = numpy.array([])\n",
    "\n",
    "def lineare (x,m,q):\n",
    "    return m*x + q\n",
    "   \n",
    "#V = np.array([ 27.2, 45.2, 65.2])\n",
    "#V = np.array([23.25, 40.25, 57.0])\n",
    "#V=np.array([19.2, 36.8, 57.2, 78.4])\n",
    "V = np.array([24.0, 40.5, 57.])\n",
    "delta_E = np.array([0.]*(len(V) -1) )\n",
    "\n",
    "for i in range (0, len(V)-1):\n",
    "    delta_E[i] = V[i+1] - V[i]\n",
    "    \n",
    "d_delta_E = mz.dVosc (delta_E/10)*10\n",
    "#n = np.array([2,3])\n",
    "n = np.array([2,3])\n",
    "popt, pcov = curve_fit (lineare, n, delta_E, sigma = d_delta_E)\n",
    "#stima di E_a, propagazione degli errori (covarianza ecc...)    \n",
    "py.errorbar(n, delta_E , d_delta_E, fmt = '.')\n",
    "x = np.linspace (0., 5., 1000)\n",
    "py.plot ( x, lineare (x, *popt) )\n",
    "py.show()\n",
    "print ( lineare(0.5, *popt), popt, pcov, delta_E )"
   ]
  },
  {
   "cell_type": "code",
   "execution_count": null,
   "metadata": {},
   "outputs": [],
   "source": []
  }
 ],
 "metadata": {
  "kernelspec": {
   "display_name": "Python 3",
   "language": "python",
   "name": "python3"
  },
  "language_info": {
   "codemirror_mode": {
    "name": "ipython",
    "version": 3
   },
   "file_extension": ".py",
   "mimetype": "text/x-python",
   "name": "python",
   "nbconvert_exporter": "python",
   "pygments_lexer": "ipython3",
   "version": "3.7.2"
  }
 },
 "nbformat": 4,
 "nbformat_minor": 2
}

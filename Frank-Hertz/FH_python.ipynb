{
 "cells": [
  {
   "cell_type": "code",
   "execution_count": 14,
   "metadata": {},
   "outputs": [],
   "source": [
    "import numpy as np\n",
    "import menzalib as mz\n",
    "from scipy.optimize import curve_fit\n",
    "import pylab as py\n",
    "#from scipy.signal import find_peaks "
   ]
  },
  {
   "cell_type": "code",
   "execution_count": 46,
   "metadata": {},
   "outputs": [
    {
     "data": {
      "image/png": "[encoded data removed]",
      "text/plain": [
       "<Figure size 432x288 with 1 Axes>"
      ]
     },
     "metadata": {
      "needs_background": "light"
     },
     "output_type": "display_data"
    },
    {
     "name": "stdout",
     "output_type": "stream",
     "text": [
      "12.799999999999983 6.7801032939056824 [ 3.2 11.2] [1.29916892 3.23719616] [17.6 20.8]\n"
     ]
    }
   ],
   "source": [
    "#dati = numpy.array([])\n",
    "\n",
    "def lineare (x,m,q):\n",
    "    return m*x + q\n",
    "   \n",
    "#V = np.array([ 27.2, 45.2, 65.2])  #scazzato, viene 15.0 quando il teorico è 16.6\n",
    "#V = np.array([23.25, 40.25, 57.0]) #con questo adirittura la spaziatura diminuisce all'aumentare di E_A...\n",
    "#V=np.array([19.2, 36.8, 57.2, 78.4])\n",
    "#V = np.array ([19.2, 36.8, 56.8, 78.4])\n",
    "#V = np.array([24.0, 40.5, 57.])  #migliore pur essendo i dati presi peggio... U_E = 9.8, viene 16.5 contro 16.6 atteso\n",
    "V = np.array ([24.8, 42.4, 63.2])     #U_E = 7.1,    viene 12.8\n",
    "#V = np.array ([28.8, 46.4, 65.6])    #U_E = 10.7    viene   15.2\n",
    "#V = np.array ([24., 40.8, 61.6])     #U_E = 6.5     viene     10.8\n",
    "delta_E = np.array([0.]*(len(V) -1) )\n",
    "\n",
    "for i in range (0, len(V)-1):\n",
    "    delta_E[i] = V[i+1] - V[i]\n",
    "    \n",
    "d_delta_E = mz.dVosc (delta_E/10)*10\n",
    "n = np.array([2,3])\n",
    "#n = np.array([2,3,4])\n",
    "popt, pcov = curve_fit (lineare, n, delta_E, sigma = d_delta_E, absolute_sigma = 'True' )\n",
    "#stima di E_a, propagazione degli errori (covarianza ecc...)    \n",
    "py.errorbar(n, delta_E , d_delta_E, fmt = '.')\n",
    "x = np.linspace (0., 5., 1000)\n",
    "py.plot ( x, lineare (x, *popt) )\n",
    "py.savefig('immagini/71.eps',format='eps')\n",
    "py.show()\n",
    "\n",
    "cov=np.zeros([3,3])\n",
    "for i in range(1,3):\n",
    "    for j in range(1,3): cov[i][j]=pcov[i-1][j-1]\n",
    "print ( lineare(0.5, *popt), mz.dy(lineare,[0.5,*popt],cov) , popt, np.sqrt( pcov.diagonal() ), delta_E )"
   ]
  },
  {
   "cell_type": "markdown",
   "metadata": {},
   "source": [
    "## CONCLUSIONI\n",
    "Risultati di merda, forse dovevamo aumentare emissività, cazzo la mancanza di tempo..\n",
    "Il risultato migliore viene con il dato preso peggio (preso di corsa con gli ultimi minuti rimasti), ma comunque il dato non ha molto senso visto che la spaziatura è costante e uguale a 16.5 quando ce la dovremmo aspettare crescente e maggiore di 16.5, con i massimi non si riesce a ragionare in nessun modo. Ho provato anche con qualche massimo ma come aspettato vien anche lì un disastro."
   ]
  },
  {
   "cell_type": "code",
   "execution_count": 40,
   "metadata": {},
   "outputs": [
    {
     "name": "stdout",
     "output_type": "stream",
     "text": [
      "[12.8 15.2 10.8] [6.78010329 6.54970258 6.50490299]\n",
      "\n",
      "\n",
      "Copia tutto quello che c'è tra le linee\n",
      "--------------------------\n",
      "\\begin{tabular}{cc}\n",
      "\\hline\n",
      "\t% qua ci va il titolo della tabella (ricorda di mettere \\\\ alla fine) %\n",
      " \\hline\n",
      "\t$7.1\\pm 0$ & $13.0\\pm7.0$ \\\\\n",
      "\t$10.7\\pm 0$ & $15.0\\pm7.0$ \\\\\n",
      "\t$6.5\\pm 0$ & $11.0\\pm7.0$ \\\\\n",
      "\\hline\n",
      "\\end{tabular}\n",
      "--------------------------\n",
      "\n",
      "\n"
     ]
    }
   ],
   "source": [
    "a=[[12.799999999999983,6.7801032939056824],\n",
    "[15.2,6.54970257856338],\n",
    "[10.79999999999999,6.504902991968741]]\n",
    "\n",
    "E,dE=np.transpose(a)\n",
    "print(E,dE)\n",
    "U_E = [7.1,10.7,6.5]\n",
    "dU_E=np.zeros(3)\n",
    "mz.mat_tex([mz.ne_tex(U_E,dU_E),mz.ne_tex(E,dE)])"
   ]
  },
  {
   "cell_type": "code",
   "execution_count": 37,
   "metadata": {},
   "outputs": [
    {
     "data": {
      "text/plain": [
       "(12.92635064759756, 3.8153166572457433)"
      ]
     },
     "execution_count": 37,
     "metadata": {},
     "output_type": "execute_result"
    }
   ],
   "source": [
    "def wa(y, dy):\n",
    "    \"\"\"Weighted average of a list of measurement.\n",
    "    \"\"\"\n",
    "    S = Sy = 0.\n",
    "    for yi, dyi in zip(y, dy):\n",
    "        wi = (1./dyi)**2.\n",
    "        S += wi\n",
    "        Sy += wi*yi\n",
    "    q = Sy/S\n",
    "    dq = (1./S)**0.5\n",
    "    return q, dq\n",
    "\n",
    "wa(E,dE)"
   ]
  },
  {
   "cell_type": "code",
   "execution_count": null,
   "metadata": {},
   "outputs": [],
   "source": []
  }
 ],
 "metadata": {
  "kernelspec": {
   "display_name": "Python 3",
   "language": "python",
   "name": "python3"
  },
  "language_info": {
   "codemirror_mode": {
    "name": "ipython",
    "version": 3
   },
   "file_extension": ".py",
   "mimetype": "text/x-python",
   "name": "python",
   "nbconvert_exporter": "python",
   "pygments_lexer": "ipython3",
   "version": "3.7.2"
  }
 },
 "nbformat": 4,
 "nbformat_minor": 2
}

{
 "cells": [
  {
   "cell_type": "code",
   "execution_count": 195,
   "metadata": {},
   "outputs": [],
   "source": [
    "import menzalib as mz\n",
    "import numpy as np\n",
    "import matplotlib.pyplot as plt\n",
    "from scipy.optimize import curve_fit\n",
    "from scipy.constants import c"
   ]
  },
  {
   "cell_type": "code",
   "execution_count": 207,
   "metadata": {},
   "outputs": [],
   "source": [
    "def theta(x):\n",
    "    if x>0: return 1\n",
    "    return 0\n",
    "\n",
    "def f2t(V,V0,a,b,I0):\n",
    "    return a*theta(V0-V)*(V0-V)**2+b*V+I0\n",
    "f2=np.vectorize(f2t)\n",
    "\n",
    "def cifrat(x):\n",
    "    i=0\n",
    "    while (x-np.round(x,-i))!=0: i=i-1\n",
    "    return i\n",
    "cifra=np.vectorize(cifrat)\n",
    "\n",
    "def lin(x,a,b):\n",
    "    return a*x+b\n"
   ]
  },
  {
   "cell_type": "markdown",
   "metadata": {},
   "source": [
    "# Fit con la funzione con esponente variabile\n",
    "Sto usando la funzione `f2(V,V0,a,b,I0,2)`$=a(V_0-V)^2\\theta(V_0-V)+bV+I_0$\n",
    "\n",
    "Le immagini sono salvate nella cartella `immagini/` e le tabelle per latex nella cartella `tabelle/`"
   ]
  },
  {
   "cell_type": "code",
   "execution_count": 210,
   "metadata": {},
   "outputs": [],
   "source": [
    "lung=[450,499,545,577]\n",
    "v0=[1.213,0.951,0.774,0.715]\n",
    "dv0=np.zeros(len(v0))\n",
    "p0=np.zeros((len(lung),4))\n",
    "for i in range(len(lung)):\n",
    "    #raccolta dati e calcolo deli errori\n",
    "    V,I=np.genfromtxt('dati/'+str(lung[i])+'nm.txt',unpack='True')\n",
    "    I=I*1e-12\n",
    "    V=V*1e-3\n",
    "    dV=mz.dVdig(V)\n",
    "    dI=np.zeros(len(I))\n",
    "    for j in range(len(I)):\n",
    "        dI[j]=np.sqrt((I[j]*4e-3)**2+10.0**(cifra(I[j])*2))\n",
    "        if I[j]==0: dI[j]=1e-13\n",
    "    p0[i][0]=v0[i]\n",
    "    \n",
    "    #il fit con gli errori sulle x non converge per i dati a 577nm\n",
    "    popt,pcov=mz.curve_fitdx(f2,V,I,dV,dI,p0[i])\n",
    "    chi2,pval=mz.chi2_pval(f2,V,I,dI,popt,dV)\n",
    "    v0[i]=popt[0]\n",
    "    dv0[i]=pcov[0][0]\n",
    "    \n",
    "    #plottaggio\n",
    "    plt.figure()\n",
    "    plt.subplot(211)\n",
    "    plt.errorbar(V,-I,xerr=dV,yerr=dI,fmt='.')\n",
    "    plt.xlabel('Voltaggio[V]')\n",
    "    plt.ylabel('Corrente[A]')\n",
    "    x=np.linspace(V[0],V[-1],100)\n",
    "    y=f2(x,*popt)\n",
    "    plt.plot(x,-y)\n",
    "    \n",
    "    plt.subplots_adjust(hspace=0.5)\n",
    "    \n",
    "    plt.subplot(212)\n",
    "    plt.errorbar(V,-(I-f2(V,*popt)),xerr=dV,yerr=dI,fmt='.')\n",
    "    plt.xlabel('Voltaggio[V]')\n",
    "    plt.ylabel('Residui della corrente[A]')\n",
    "    x=np.linspace(V[0],V[-1],100)\n",
    "    y=np.zeros(len(x))\n",
    "    plt.plot(x,y)\n",
    "    plt.savefig('immagini/'+str(lung[i])+'nm.eps',format='eps')\n",
    "    plt.close()\n",
    "    \n",
    "    #faccio la tabella con i parametri di fit\n",
    "    col1=['$V_0$','$a$','$b$','$I_0$','$\\chi^2$']\n",
    "    col2=mz.ne_tex(popt,pcov.diagonal())\n",
    "    col2=np.append(col2,mz.ns_tex(chi2))\n",
    "    mz.mat_tex([col1,col2],'Parametri di Fit & Valori di Fit','tabelle/'+str(lung[i])+'nm.tex')"
   ]
  },
  {
   "cell_type": "code",
   "execution_count": null,
   "metadata": {},
   "outputs": [],
   "source": []
  },
  {
   "cell_type": "code",
   "execution_count": null,
   "metadata": {},
   "outputs": [],
   "source": []
  }
 ],
 "metadata": {
  "kernelspec": {
   "display_name": "Python 3",
   "language": "python",
   "name": "python3"
  },
  "language_info": {
   "codemirror_mode": {
    "name": "ipython",
    "version": 3
   },
   "file_extension": ".py",
   "mimetype": "text/x-python",
   "name": "python",
   "nbconvert_exporter": "python",
   "pygments_lexer": "ipython3",
   "version": "3.5.3"
  }
 },
 "nbformat": 4,
 "nbformat_minor": 2
}

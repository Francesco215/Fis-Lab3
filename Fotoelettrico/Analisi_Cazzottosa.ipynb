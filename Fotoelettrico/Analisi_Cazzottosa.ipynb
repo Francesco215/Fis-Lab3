{
 "cells": [
  {
   "cell_type": "code",
   "execution_count": 17,
   "metadata": {},
   "outputs": [],
   "source": [
    "import menzalib as mz\n",
    "import numpy as np\n",
    "import matplotlib.pyplot as plt\n",
    "from scipy.optimize import curve_fit\n",
    "import scipy.constants as con\n",
    "from scipy.stats import linregress\n",
    "from numdifftools.nd_algopy import Gradient, Derivative"
   ]
  },
  {
   "cell_type": "code",
   "execution_count": 18,
   "metadata": {},
   "outputs": [],
   "source": [
    "def theta(x):\n",
    "    if x>0: return 1\n",
    "    return 0\n",
    "\n",
    "def f2t(V,V0,a,b,I0):\n",
    "    return a*theta(V0-V)*(V0-V)**2+b*V+I0\n",
    "f2=np.vectorize(f2t)\n",
    "\n",
    "def cifrat(x):\n",
    "    i=0\n",
    "    while (x-np.round(x,-i))!=0: i=i-1\n",
    "    if i<-13: return -13\n",
    "    return i\n",
    "cifra=np.vectorize(cifrat)\n",
    "\n",
    "def lint(x,a,b):\n",
    "    return x*a+b\n",
    "lin=np.vectorize(lint)"
   ]
  },
  {
   "cell_type": "markdown",
   "metadata": {},
   "source": [
    "# Fit con la funzione con esponente fisso\n",
    "Sto usando la funzione `f2(V,V0,a,b,I0,2)`$=a(V_0-V)^2\\theta(V_0-V)+bV+I_0$\n",
    "\n",
    "Le immagini sono salvate nella cartella `immagini/` e le tabelle per latex nella cartella `tabelle/`"
   ]
  },
  {
   "cell_type": "code",
   "execution_count": 44,
   "metadata": {},
   "outputs": [],
   "source": [
    "lung=[450,499,545,577]\n",
    "dlung=[9.6,11.1,11.68,10]/np.sqrt(4)\n",
    "v0=[1.213,0.951,0.774,0.715]\n",
    "dv0=np.zeros(len(v0))\n",
    "p0=np.zeros(len(lung))\n",
    "for i in range(len(lung)):\n",
    "    \n",
    "    #raccolta dati e calcolo deli errori\n",
    "    V,I=np.genfromtxt('dati/'+str(lung[i])+'nm.txt',unpack='True')\n",
    "    I=I*1e-12\n",
    "    V=V*1e-3\n",
    "    dV=mz.dVdig(V)\n",
    "    dI=np.zeros(len(I))\n",
    "    for j in range(len(I)):\n",
    "        dI[j]=np.sqrt((I[j]*4e-3)**2+10.0**(cifra(I[j])*2))\n",
    "        if I[j]==0: dI[j]=1e-13\n",
    "    p0[0]=v0[i]\n",
    "\n",
    "    #fit\n",
    "    popt,pcov,a,chi2,pval=mz.curve_fitdx(f2,V,I,dV,dI,p0,chi2pval=1,absolute_sigma=True)\n",
    "    #v0[i]=popt[0]\n",
    "    #dv0[i]=np.sqrt(pcov[0][0])\n",
    "    \n",
    "    #plottaggio\n",
    "    plt.figure()\n",
    "    plt.title('Fotocorrente con lunghezza d\\'onda di '+str(lung[i])+'nm')\n",
    "    plt.subplot(211)\n",
    "    plt.errorbar(V,-I*1e12,xerr=dV,yerr=dI*1e12,fmt='.')\n",
    "    plt.xlabel('Voltaggio[V]')\n",
    "    plt.ylabel('Corrente[pA]')\n",
    "    x=np.linspace(V[0],V[-1],100)\n",
    "    y=f2(x,*popt)\n",
    "    plt.plot(x,-y*1e12)\n",
    "    \n",
    "    plt.subplots_adjust(hspace=0.5)\n",
    "    def ft(V):\n",
    "        return f2(V,*popt)\n",
    "    \n",
    "    plt.subplot(212)\n",
    "    sigma_eff=np.empty(len(dI))\n",
    "    for j in range(len(dI)):\n",
    "        sigma_eff[j]=np.sqrt((dI[j])**2+(Derivative(ft)(V[j])*dV[j])**2)\n",
    "    plt.errorbar(V,-(I-f2(V,*popt))*1e12,xerr=dV,yerr=sigma_eff*1e12,fmt='.')\n",
    "    plt.xlabel('Voltaggio[V]')\n",
    "    plt.ylabel('Residui della corrente[pA]')\n",
    "    x=np.linspace(V[0],V[-1],100)\n",
    "    y=np.zeros(len(x))\n",
    "    plt.plot(x,y)\n",
    "    plt.savefig('immagini/'+str(lung[i])+'nm.eps',format='eps')\n",
    "    plt.close()\n",
    "    \n",
    "    #faccio la tabella con i parametri di fit\n",
    "    col1=['$V_0$','$a$','$b$','$I_0$','$\\chi^2$']\n",
    "    col2=mz.ne_tex(popt,np.sqrt(pcov.diagonal()))\n",
    "    col2=np.append(col2,mz.ns_tex(chi2))\n",
    "    mz.mat_tex([col1,col2],'Parametri di Fit & Valori di Fit','tabelle/'+str(lung[i])+'nm.tex')\n",
    "    \n",
    "    #faccio la tabella con i dati grezzi\n",
    "    col1=mz.ns_tex(V*1000,1,dV*1000)\n",
    "    col2=mz.ns_tex(dV*1000,1,dV*1000)\n",
    "    col3=mz.ns_tex(I*1e12,1,dI*1e12)\n",
    "    col4=mz.ns_tex(dI*1e12,1,dI*1e12)\n",
    "    mz.mat_tex([col1,col2,col3,col4],'$V[mV]$ & $\\\\sigma V[mV]$ & $I[pA]$ & $\\\\sigma I[pA]$',\n",
    "              'tabelle/completi'+str(lung[i])+'nm.tex')\n",
    "\n",
    "#porto la lunghezza d'onda in metri\n",
    "dlung=np.array(dlung)*1e-9\n",
    "lung=np.array(lung)*1e-9"
   ]
  },
  {
   "cell_type": "markdown",
   "metadata": {},
   "source": [
    "# Fit per determinare $h/c$\n",
    "\n",
    "Per la conservazione dell'energia $eV_0=h\\nu(\\lambda)+W_0$\n",
    "\n",
    "visto che $\\nu=\\frac1T$ e $\\omega=\\frac{2\\pi}T$ allora $\\nu=2\\pi\\omega$, inoltre $\\frac\\omega k=c$ e $k=\\frac{2\\pi}\\lambda$\n",
    "\n",
    "quindi $c=\\frac{\\omega\\lambda}{2\\pi}=\\nu\\lambda$, quindi $\\nu(\\lambda)=\\frac c\\lambda$\n",
    "\n",
    "Morale della favola $V_0=\\frac{hc}{e\\lambda}+\\frac{W_0}e$ e $\\nu=\\frac{eV_0}{h}-\\frac{W_0}{h}$"
   ]
  },
  {
   "cell_type": "code",
   "execution_count": 45,
   "metadata": {},
   "outputs": [
    {
     "name": "stdout",
     "output_type": "stream",
     "text": [
      "$(3.4$ $\\pm$ $0.2)\\times 10^{-15}$\n",
      "4.135667662340164e-15\n"
     ]
    },
    {
     "data": {
      "image/png": "[encoded data removed]",
      "text/plain": [
       "<Figure size 432x288 with 1 Axes>"
      ]
     },
     "metadata": {
      "needs_background": "light"
     },
     "output_type": "display_data"
    }
   ],
   "source": [
    "#passo nelle frequenze\n",
    "dfreq=mz.drapp(con.c,0,lung,dlung)\n",
    "freq=np.empty(len(lung))\n",
    "for i in range(len(lung)): freq[i]=con.c/lung[i]\n",
    "\n",
    "#faccio il fit\n",
    "p0=linregress(v0,freq)[:2]\n",
    "popt,pcov,a,chi2,pval=mz.curve_fitdx(lin,v0,freq,dv0,dfreq,p0,absolute_sigma=True,chi2pval=1)\n",
    "print(mz.ne_tex(1/popt[0],mz.drapp(1,0,popt[0],np.sqrt(pcov[0][0]))))\n",
    "print(con.h/con.e)\n",
    "\n",
    "#plotto\n",
    "x=np.linspace(0.7,1.3,10)\n",
    "y=lin(x,*popt)\n",
    "plt.figure()\n",
    "plt.errorbar(v0,freq,xerr=dv0,yerr=dfreq,fmt='.')\n",
    "plt.plot(x,y)\n",
    "plt.xlabel('V_0[V]')\n",
    "plt.ylabel('frequenza[Hz]')\n",
    "#plt.savefig('immagini/fit.eps',format='eps')\n",
    "\n",
    "#tabella parametri di fit\n",
    "col1=['$e/h$','$W_o/h$','$\\chi^2$']\n",
    "col2=mz.ne_tex(popt,np.sqrt(pcov.diagonal()))\n",
    "col2=np.append(col2,mz.ns_tex(chi2))\n",
    "#mz.mat_tex([col1,col2],'Parametri di Fit & Valori di Fit','tabelle/e_su_h.tex')\n",
    "\n",
    "#tabella dati\n",
    "col2=mz.ne_tex(freq,dfreq)\n",
    "col1=mz.ne_tex(v0,dv0)\n",
    "#mz.mat_tex([col1,col2],'$V_0[V]$ & $\\\\nu[Hz]$','tabelle/plank.tex')"
   ]
  },
  {
   "cell_type": "markdown",
   "metadata": {},
   "source": [
    "$e/h=(3.0\\pm0.1)\\times 10^{14}$ il valore teorico è $2.42\\times 10^{14}$, che bello"
   ]
  },
  {
   "cell_type": "code",
   "execution_count": 22,
   "metadata": {},
   "outputs": [
    {
     "name": "stdout",
     "output_type": "stream",
     "text": [
      "1.3017775916584449 0.0032795563578695034\n"
     ]
    }
   ],
   "source": []
  },
  {
   "cell_type": "code",
   "execution_count": null,
   "metadata": {},
   "outputs": [],
   "source": []
  }
 ],
 "metadata": {
  "kernelspec": {
   "display_name": "Python 3",
   "language": "python",
   "name": "python3"
  },
  "language_info": {
   "codemirror_mode": {
    "name": "ipython",
    "version": 3
   },
   "file_extension": ".py",
   "mimetype": "text/x-python",
   "name": "python",
   "nbconvert_exporter": "python",
   "pygments_lexer": "ipython3",
   "version": "3.7.1"
  }
 },
 "nbformat": 4,
 "nbformat_minor": 2
}

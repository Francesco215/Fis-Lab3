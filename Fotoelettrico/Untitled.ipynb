{
 "cells": [
  {
   "cell_type": "code",
   "execution_count": 21,
   "metadata": {},
   "outputs": [],
   "source": [
    "import menzalib as mz\n",
    "import numpy as np\n",
    "import pylab as pl"
   ]
  },
  {
   "cell_type": "code",
   "execution_count": 43,
   "metadata": {},
   "outputs": [],
   "source": [
    "def theta(x):\n",
    "    if x>0: return 1\n",
    "    return 0\n",
    "\n",
    "def falfat(V,V0,a,b,I0,alfa):\n",
    "    return a*theta(V0-V)*np.abs(V0-V)**alfa+b*V+I0\n",
    "falfa=np.vectorize(falfat)\n",
    "\n",
    "def f2t(V,V0,a,b,I0):\n",
    "    return a*theta(V0-V)*(V0-V)**2+b*V+I0\n",
    "f2=np.vectorize(f2t)"
   ]
  },
  {
   "cell_type": "code",
   "execution_count": 94,
   "metadata": {},
   "outputs": [
    {
     "name": "stdout",
     "output_type": "stream",
     "text": [
      "20.618898604035206 0.9855456186047458\n",
      "[ 1.27769356e+00 -1.07606053e-09  1.93195740e-11 -1.86299838e-11\n",
      "  2.09873033e+00] \n",
      " [4.87274097e-04 9.20402668e-22 2.90654820e-24 5.82825518e-24\n",
      " 1.54801694e-02]\n"
     ]
    },
    {
     "data": {
      "image/png": "[encoded data removed]",
      "text/plain": [
       "<matplotlib.figure.Figure at 0x1195e72e8>"
      ]
     },
     "metadata": {
      "needs_background": "light"
     },
     "output_type": "display_data"
    }
   ],
   "source": [
    "viola=450e-9 \n",
    "dviola=9.6e-9\n",
    "\n",
    "#dati ed errori\n",
    "I450,V450=np.genfromtxt('dati/450nm.txt',unpack='True')\n",
    "I450=I450*1e-12\n",
    "V450=V450*1e-3\n",
    "dV450=mz.dVdig(V450)\n",
    "dI450=np.empty(len(I450))\n",
    "for i in range(len(I450)):\n",
    "    if I450[i]>-200e-12: dI450[i]=np.sqrt((I450[i]*4e-3)**2+(1e-13)**2)\n",
    "    else: dI450[i]=np.sqrt((I450[i]*4e-3)**2+(1e-12)**2)\n",
    "        \n",
    "#fit\n",
    "popt,pvalue,dpopt,chi,pval=mz.curve_fitdx(falfa,V450,I450,dV450,dI450,p0=[1.213,0,0,0,2],chi2pval=True)\n",
    "print(chi,pval)\n",
    "print(popt,'\\n',pcov.diagonal())\n",
    "\n",
    "\n",
    "#plot\n",
    "x=np.linspace(0.6,1.6,100)\n",
    "y=falfa(x,*popt)\n",
    "pl.plot(x,-y)\n",
    "pl.errorbar(V450,-I450,xerr=dV450,yerr=dI450,fmt='.')\n",
    "pl.xlabel('Voltaggio[V]')\n",
    "pl.ylabel('Corrente[A]')\n",
    "pl.show()"
   ]
  },
  {
   "cell_type": "code",
   "execution_count": 77,
   "metadata": {},
   "outputs": [
    {
     "data": {
      "text/plain": [
       "[<matplotlib.lines.Line2D at 0x119a6cf98>]"
      ]
     },
     "execution_count": 77,
     "metadata": {},
     "output_type": "execute_result"
    },
    {
     "data": {
      "image/png": "[encoded data removed]",
      "text/plain": [
       "<matplotlib.figure.Figure at 0x1198ef1d0>"
      ]
     },
     "metadata": {
      "needs_background": "light"
     },
     "output_type": "display_data"
    }
   ],
   "source": [
    "#pl.errorbar(V450,I450-falfa(V450,*popt),xerr=dV450,yerr=dI450,fmt='.')\n",
    "pl.plot(V450,(I450-falfa(V450,*popt))/dI450,'.')\n"
   ]
  },
  {
   "cell_type": "code",
   "execution_count": null,
   "metadata": {},
   "outputs": [],
   "source": [
    "verde=577e-9\n",
    "dverde=10e-9\n",
    "\n",
    "#dati ed errori\n",
    "V577,I577=np.genfromtxt('dati/577nm.txt',unpack='True')\n",
    "I577=I577*1e-12\n",
    "V577=V577*1e-3\n",
    "dV577=mz.dVdig(V577)\n",
    "dI577=np.sqrt((I577*4e-3)**2+(1e-13)**2)\n",
    "        \n",
    "    \n",
    "pl.errorbar(V577,-I577,xerr=dV577,yerr=dI577,fmt='.')\n",
    "pl.xlabel('Voltaggio[V]')\n",
    "pl.ylabel('Corrente[A]')\n",
    "pl.show()"
   ]
  },
  {
   "cell_type": "code",
   "execution_count": null,
   "metadata": {},
   "outputs": [],
   "source": []
  }
 ],
 "metadata": {
  "kernelspec": {
   "display_name": "Python 3",
   "language": "python",
   "name": "python3"
  },
  "language_info": {
   "codemirror_mode": {
    "name": "ipython",
    "version": 3
   },
   "file_extension": ".py",
   "mimetype": "text/x-python",
   "name": "python",
   "nbconvert_exporter": "python",
   "pygments_lexer": "ipython3",
   "version": "3.5.3"
  }
 },
 "nbformat": 4,
 "nbformat_minor": 2
}

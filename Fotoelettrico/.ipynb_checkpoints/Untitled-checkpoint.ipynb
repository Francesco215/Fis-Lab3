{
 "cells": [
  {
   "cell_type": "code",
   "execution_count": 60,
   "metadata": {},
   "outputs": [],
   "source": [
    "import menzalib as mz\n",
    "import numpy as np\n",
    "import pylab as pl\n",
    "from scipy.optimize import curve_fit\n",
    "from scipy.stats import chi2\n",
    "from numdifftools.nd_algopy import Derivative\n",
    "from numpy import sqrt, vectorize, absolute, log, array"
   ]
  },
  {
   "cell_type": "code",
   "execution_count": 84,
   "metadata": {},
   "outputs": [
    {
     "data": {
      "text/plain": [
       "array(0)"
      ]
     },
     "execution_count": 84,
     "metadata": {},
     "output_type": "execute_result"
    }
   ],
   "source": [
    "def theta(x):\n",
    "    if x>0: return 1\n",
    "    return 0\n",
    "\n",
    "def falfat(V,V0,a,b,I0,alfa):\n",
    "    return a*theta(V0-V)*np.abs(V0-V)**alfa+b*V+I0\n",
    "falfa=np.vectorize(falfat)\n",
    "\n",
    "def f2t(V,V0,a,b,I0):\n",
    "    return a*theta(V0-V)*(V0-V)**2+b*V+I0\n",
    "f2=np.vectorize(f2t)\n",
    "\n",
    "def cifrat(x):\n",
    "    i=0\n",
    "    while (x-np.round(x,-i))!=0: i=i-1\n",
    "    return i\n",
    "cifra=np.vectorize(cifrat)\n"
   ]
  },
  {
   "cell_type": "code",
   "execution_count": 90,
   "metadata": {},
   "outputs": [],
   "source": [
    "def curve_fitdx(f, x, y, dx=None, dy=None, p0=None, df=None, nit=10, absolute_sigma=False, chi2pval=False):\n",
    "    # Inizializzazione variabili, se la derivata\n",
    "    # non è data esplicitamente la approssimo con scipy\n",
    "    if dy is None :\n",
    "        dy = np.ones(len(y))\n",
    "\n",
    "    if dx is None:\n",
    "        popt, pcov = curve_fit(f, x, y, p0, dy, absolute_sigma=absolute_sigma)\n",
    "        chi = np.sum(((f(x,*popt)-y)/dy)**2)\n",
    "    \n",
    "    else:\n",
    "        if df is None:\n",
    "            df=Derivative(f)\n",
    "        \n",
    "        # Eseguo il fit\n",
    "        sigma_eff = dy\n",
    "        chi, chi_old = 1, -1\n",
    "        i=0\n",
    "        while (i<10 and (chi-chi_old)/chi > 1e-6):\n",
    "            print(sigma_eff)\n",
    "            popt, pcov = curve_fit(f, x, y, p0, sigma_eff, absolute_sigma=absolute_sigma)\n",
    "            sigma_eff = sqrt(dy**2 + (df(x, *popt)*dx)**2)\n",
    "            print(df(x, *popt)*dx)\n",
    "            chi_old = chi\n",
    "            chi = np.sum(((f(x,*popt)-y)/sigma_eff)**2)\n",
    "            i += 1\n",
    "            x=np.linspace(0.6,1.3)\n",
    "            y=f(x,*popt)\n",
    "            pl.plot(x,-y)\n",
    "            pl.show()\n",
    "\n",
    "    if (chi2pval==False):\n",
    "        return popt, pcov\n",
    "    else:\n",
    "        dpopt = sqrt(np.diag(pcov))\n",
    "        pvalue = chi2.cdf(chi,len(x)-len(popt))\n",
    "        return popt, pcov, dpopt, chi, pvalue"
   ]
  },
  {
   "cell_type": "code",
   "execution_count": 94,
   "metadata": {},
   "outputs": [
    {
     "data": {
      "image/png": "[encoded data removed]",
      "text/plain": [
       "<matplotlib.figure.Figure at 0x11940b898>"
      ]
     },
     "metadata": {
      "needs_background": "light"
     },
     "output_type": "display_data"
    }
   ],
   "source": [
    "dati=['dati/450nm.txt','dati/499nm.txt','dati/545nm.txt','dati/577nm.txt']\n",
    "v0=[1.213,0.951,0.774,0.715]\n",
    "p0=np.zeros((len(dati),5))\n",
    "for i in range(len(dati)):\n",
    "    V,I=np.genfromtxt(dati[i],unpack='True')\n",
    "    I=I*1e-12\n",
    "    V=V*1e-3\n",
    "    dV=mz.dVdig(V)\n",
    "    dI=np.zeros(len(I))\n",
    "    for j in range(len(I)):\n",
    "        dI[j]=np.sqrt((I[j]*4e-3)**2+10.0**(cifra(I[j])*2))\n",
    "        if I[j]==0: dI[j]=1e-13\n",
    "    p0[i][0]=v0[i]\n",
    "    p0[i][-1]=2\n",
    "    \n",
    "    #il quarto fit con gli errori sulle x non converge\n",
    "    #popt,pcov=mz.curve_fitdx(falfa,V,I,dV,dI,p0[i])\n",
    "    popt,pcov=curve_fit(falfa,V,I,sigma=dI,p0=p0[i])\n",
    "    pl.errorbar(V,-I,xerr=dV,yerr=dI,fmt='.')\n",
    "    x=np.linspace(V[0],V[-1],100)\n",
    "    y=falfa(x,*popt)\n",
    "    pl.plot(x,-y)\n",
    "pl.show()\n"
   ]
  },
  {
   "cell_type": "code",
   "execution_count": null,
   "metadata": {},
   "outputs": [],
   "source": []
  }
 ],
 "metadata": {
  "kernelspec": {
   "display_name": "Python 3",
   "language": "python",
   "name": "python3"
  },
  "language_info": {
   "codemirror_mode": {
    "name": "ipython",
    "version": 3
   },
   "file_extension": ".py",
   "mimetype": "text/x-python",
   "name": "python",
   "nbconvert_exporter": "python",
   "pygments_lexer": "ipython3",
   "version": "3.5.3"
  }
 },
 "nbformat": 4,
 "nbformat_minor": 2
}

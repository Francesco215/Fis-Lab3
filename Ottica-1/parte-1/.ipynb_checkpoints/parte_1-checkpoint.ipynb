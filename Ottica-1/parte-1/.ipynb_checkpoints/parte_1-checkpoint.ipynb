{
 "cells": [
  {
   "cell_type": "code",
   "execution_count": 2,
   "metadata": {},
   "outputs": [],
   "source": [
    "import numpy as np\n",
    "import pylab as pl\n",
    "from scipy.optimize import curve_fit"
   ]
  },
  {
   "cell_type": "code",
   "execution_count": 24,
   "metadata": {},
   "outputs": [
    {
     "name": "stdout",
     "output_type": "stream",
     "text": [
      "[[297.   50.    0.5]\n",
      " [299.    4.    0.5]\n",
      " [297.   27.    0.5]\n",
      " [297.   20.    0.5]\n",
      " [296.   30.    0.5]\n",
      " [346.   58.    0.5]\n",
      " [298.   40.    0.5]]\n"
     ]
    }
   ],
   "source": [
    "def lineare (x, m, q):\n",
    "    return m*x + q\n",
    "\n",
    "\n",
    "misure = np.transpose (np.transpose ( np.genfromtxt('foglio_excel_davide.csv',delimiter=',')[1:] )[1:])\n",
    "print (misure)"
   ]
  },
  {
   "cell_type": "code",
   "execution_count": 25,
   "metadata": {},
   "outputs": [
    {
     "name": "stdout",
     "output_type": "stream",
     "text": [
      "[47.9        49.13333333 49.51666667 49.63333333] [0.01666667 0.01666667 0.01666667 0.01666667]\n",
      "[2998.77782491   43.24285481] [36.39041382  0.07091098] -0.9930707245776376 -0.9930707245776373\n"
     ]
    },
    {
     "data": {
      "image/png": "[encoded data removed]",
      "text/plain": [
       "<Figure size 432x288 with 1 Axes>"
      ]
     },
     "metadata": {
      "needs_background": "light"
     },
     "output_type": "display_data"
    },
    {
     "name": "stdout",
     "output_type": "stream",
     "text": [
      "$\\chi^{2}$ 4.045277746265609 2\n"
     ]
    },
    {
     "data": {
      "image/png": "[encoded data removed]",
      "text/plain": [
       "<Figure size 432x288 with 1 Axes>"
      ]
     },
     "metadata": {
      "needs_background": "light"
     },
     "output_type": "display_data"
    }
   ],
   "source": [
    "primi = np.array([346. , 299., 297., 297., 297., 298. ])    #tolto viola, nn so lunghezza d'onda...\n",
    "secondi = np.array([58., 4., 50., 27., 20., 39.])\n",
    "\n",
    "\n",
    "#primi = np.array([346., 299., 297., 297., 297., 296., 298. ])      #messo viola ma peggiora un po'...perchè?\n",
    "#secondi = np.array([58., 4., 50., 27., 20., 30., 39.])\n",
    "\n",
    "lunghezze_teo = np.array([ 643.8, 508.6, 480.0, 467.8])     #nm\n",
    "#lunghezze_teo = np.array([ 643.8, 508.6, 480.0, 467.8, 413.48 ])     #mia supposizione...  \n",
    "\n",
    "\n",
    "\n",
    "primi = np.array( [primi[0]]*len(primi) ) - primi\n",
    "secondi = np.array( [secondi[0]]*len(secondi) ) - secondi \n",
    "\n",
    "angoli = primi + secondi/60.\n",
    "#angoli = (np.pi/180.)*angoli    #conversione in radianti \n",
    "#angoli = 90. - angoli            #angolo rispetto alla normale?, alla fine ai fini del fit nn cambia niente...\n",
    "\n",
    "zero = angoli[0]\n",
    "sodio = angoli[len(angoli) - 1]\n",
    "\n",
    "angoli = angoli[1:]\n",
    "angoli = angoli[:-1]\n",
    "d_angoli = np.array( [1./60.]*len(angoli) )\n",
    "#d_angoli = d_angoli*np.sqrt(1/2.)  attenzione stima errori e fatto Forti propagazione di errori che riguardano più misure..\n",
    "#d_angoli[len(angoli) - 2 ] = 2*d_angoli[len(angoli) - 2]\n",
    "#d_angoli = d_angoli*2.                #Forse più corretto raddoppiare errori (guarda chi quadro) e lunghezza d'onda Na\n",
    "print (angoli, d_angoli)\n",
    "\n",
    "\n",
    "\n",
    "popt, pcov = curve_fit (lineare, 1./lunghezze_teo , angoli , sigma = d_angoli , absolute_sigma = 'True' ) #absolute sigma? cambia qualcosa mettere o no i param iniziali, io n  li ho messi.....\n",
    "print ( popt, np.sqrt( pcov.diagonal() ), pcov[0][1]/np.sqrt(pcov[0][0]*pcov[1][1]), pcov[1][0]/np.sqrt(pcov[0][0]*pcov[1][1]) ) \n",
    "pl.errorbar (1./lunghezze_teo, angoli , d_angoli, fmt = '.')\n",
    "x = np.linspace (0.001 , 0.003, 10000)\n",
    "pl.plot ( x, lineare (x, *popt) )\n",
    "#pl.xlabel('m')\n",
    "#pl.ylabel(\"sin($\\Theta_{d}$)\")\n",
    "#pl.savefig(immagini[i],format='eps')\n",
    "pl.show()\n",
    "\n",
    "\n",
    "#CHIQUADRO\n",
    "chi2 = ( ( ( angoli - lineare(1./lunghezze_teo, *popt) )/ d_angoli )**2. ).sum()\n",
    "print ( '$\\chi^{2}$' , chi2, len(angoli) - len(popt) )\n",
    "\n",
    "#RESIDUI NORMALIZZATI\n",
    "pl.errorbar( 1./lunghezze_teo, ( angoli - lineare (1./lunghezze_teo, *popt) )/d_angoli , d_angoli/d_angoli , fmt = '.') \n",
    "#pl.savefig(immagini[i+5],format='eps')\n",
    "pl.show()\n",
    "    \n",
    "    \n",
    "    \n",
    "    \n",
    "\n",
    "\n"
   ]
  },
  {
   "cell_type": "code",
   "execution_count": 26,
   "metadata": {},
   "outputs": [
    {
     "name": "stdout",
     "output_type": "stream",
     "text": [
      "0.0016919599085145917\n",
      "591.030552773512 2.4028939642313434 589.2935\n"
     ]
    }
   ],
   "source": [
    "#STIMA LUNGHEZZA D'ONDA DELLA RIGA (DOPPIETTO) GIALLA DEL SODIO\n",
    "#Valori teorici doppietto Na : D1 589.592 nm     D2 588.995 nm \n",
    "lung_Na_teo = (589.592 + 588.995)/2.\n",
    "lung_Na = ( sodio - popt[1] )/popt[0]\n",
    "print (lung_Na)\n",
    "a = np.array([lung_Na, 1.])\n",
    "d_lung_Na = ( (1./popt[0])**2. )* ( np.dot ( a, np.dot( pcov,  np.transpose(a) ) )  + d_angoli[0]**2. )\n",
    "d_lung_Na = np.sqrt(d_lung_Na)\n",
    "d_lung_Na = d_lung_Na/(lung_Na)**2.\n",
    "lung_Na = 1./lung_Na\n",
    "print ( lung_Na, d_lung_Na, lung_Na_teo )\n",
    "\n",
    "\n",
    "#ERRORE STIMATO NEL MODO SBAGLIATO\n",
    "#d_lung_Na = lung_Na*np.sqrt( pcov[0][0]/popt[0]**2.  + ( d_angoli[0]**2. + pcov[1][1] )/( sodio - popt[1] )**2. )\n",
    "#print (d_lung_Na)\n"
   ]
  },
  {
   "cell_type": "markdown",
   "metadata": {},
   "source": [
    "Tutto bene, il valore finale è 593.0 \\pm 2.4, in leggera sovrastima rispetto al 589.3 teorico; poi discorso della linea viola ecc...RIGUARDARE FOTO PER CONFERMA .....\n",
    "Modificando il dato del Na da 298 gradi 40 primi a 298 gradi 39 primi il valore diventa : 591.0 \\pm 2.4 in buon accordo con il valore teorico..."
   ]
  },
  {
   "cell_type": "code",
   "execution_count": null,
   "metadata": {},
   "outputs": [],
   "source": []
  }
 ],
 "metadata": {
  "kernelspec": {
   "display_name": "Python 3",
   "language": "python",
   "name": "python3"
  },
  "language_info": {
   "codemirror_mode": {
    "name": "ipython",
    "version": 3
   },
   "file_extension": ".py",
   "mimetype": "text/x-python",
   "name": "python",
   "nbconvert_exporter": "python",
   "pygments_lexer": "ipython3",
   "version": "3.7.2"
  }
 },
 "nbformat": 4,
 "nbformat_minor": 2
}

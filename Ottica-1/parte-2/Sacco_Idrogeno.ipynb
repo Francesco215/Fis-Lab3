{
 "cells": [
  {
   "cell_type": "code",
   "execution_count": 2,
   "metadata": {},
   "outputs": [],
   "source": [
    "import numpy as np\n",
    "import menzalib as mz\n",
    "import pylab as pl\n",
    "from scipy.optimize import curve_fit\n",
    "from inspect import signature\n",
    "from scipy.constants import c"
   ]
  },
  {
   "cell_type": "code",
   "execution_count": 3,
   "metadata": {},
   "outputs": [],
   "source": [
    "def lin(x,a,b):\n",
    "    return a*x+b\n",
    "\n",
    "def dsen(x,dx):\n",
    "    return dx*np.cos(x)\n",
    "dsin=np.vectorize(dsen)\n",
    "\n",
    "#misurando gli angoli in senso orario\n",
    "def func(alpha,alphar,theta0,d):\n",
    "    ang_r=(np.pi-alphar+theta0)/2\n",
    "    ang=np.pi+theta0-ang_r-alpha\n",
    "    return d*(np.sin(ang_r)-np.sin(ang))\n",
    "\n",
    "\n",
    "\n",
    "def cosa(alpha,alphar,theta0):\n",
    "    ang_r=(np.pi-alphar+theta0)/2\n",
    "    ang=np.pi+theta0-ang_r-alpha\n",
    "    return np.sin(ang_r)-np.sin(ang)\n",
    "\n",
    "\n",
    "def Colore(wavelength, gamma=0.8):\n",
    "\n",
    "    '''This converts a given wavelength of light to an \n",
    "    approximate RGB color value. The wavelength must be given\n",
    "    in nanometers in the range from 380 nm through 750 nm\n",
    "    (789 THz through 400 THz).\n",
    "\n",
    "    Based on code by Dan Bruton\n",
    "    http://www.physics.sfasu.edu/astro/color/spectra.html\n",
    "    '''\n",
    "\n",
    "    wavelength = float(wavelength)\n",
    "    if wavelength >= 380 and wavelength <= 440:\n",
    "        attenuation = 0.3 + 0.7 * (wavelength - 380) / (440 - 380)\n",
    "        R = ((-(wavelength - 440) / (440 - 380)) * attenuation) ** gamma\n",
    "        G = 0.0\n",
    "        B = (1.0 * attenuation) ** gamma\n",
    "    elif wavelength >= 440 and wavelength <= 490:\n",
    "        R = 0.0\n",
    "        G = ((wavelength - 440) / (490 - 440)) ** gamma\n",
    "        B = 1.0\n",
    "    elif wavelength >= 490 and wavelength <= 510:\n",
    "        R = 0.0\n",
    "        G = 1.0\n",
    "        B = (-(wavelength - 510) / (510 - 490)) ** gamma\n",
    "    elif wavelength >= 510 and wavelength <= 580:\n",
    "        R = ((wavelength - 510) / (580 - 510)) ** gamma\n",
    "        G = 1.0\n",
    "        B = 0.0\n",
    "    elif wavelength >= 580 and wavelength <= 645:\n",
    "        R = 1.0\n",
    "        G = (-(wavelength - 645) / (645 - 580)) ** gamma\n",
    "        B = 0.0\n",
    "    elif wavelength >= 645 and wavelength <= 750:\n",
    "        attenuation = 0.3 + 0.7 * (750 - wavelength) / (750 - 645)\n",
    "        R = (1.0 * attenuation) ** gamma\n",
    "        G = 0.0\n",
    "        B = 0.0\n",
    "    else:\n",
    "        R = 0.0\n",
    "        G = 0.0\n",
    "        B = 0.0\n",
    "    R *= 255\n",
    "    G *= 255\n",
    "    B *= 255\n",
    "    #return (int(R), int(G), int(B))\n",
    "    return (R/255, G/255, B/255)\n",
    "\n"
   ]
  },
  {
   "cell_type": "markdown",
   "metadata": {},
   "source": [
    "# Determinazione di d"
   ]
  },
  {
   "cell_type": "code",
   "execution_count": 27,
   "metadata": {},
   "outputs": [
    {
     "name": "stdout",
     "output_type": "stream",
     "text": [
      "0.0011948499537351347 2.7091878006920848e-11\n",
      "836.9251694524252 3.6457997723237363\n",
      "$(8.37 \\pm 0.04) \\times 10^{2}$\n"
     ]
    },
    {
     "data": {
      "image/png": "[encoded data removed]",
      "text/plain": [
       "<Figure size 432x288 with 1 Axes>"
      ]
     },
     "metadata": {
      "needs_background": "light"
     },
     "output_type": "display_data"
    }
   ],
   "source": [
    "zero,dzero=168.63,0.02\n",
    "zero,dzero=zero*np.pi/180,dzero*np.pi/180\n",
    "d,dd=836.019,0.434\n",
    "\n",
    "dati=np.transpose(np.transpose(np.genfromtxt('Mercurio.csv',delimiter=','))[1:])\n",
    "\n",
    "#inizializzo gli array di numpy\n",
    "thetam,dthetam=np.empty(len(dati)),np.empty(len(dati))\n",
    "#gli assegno i valori\n",
    "for i in range(len(dati)):\n",
    "    thetam[i]=dati[i][0]+dati[i][1]/60 \n",
    "    dthetam[i]=dati[i][2]/60\n",
    "\n",
    "#converto theta da gradi in radianti\n",
    "thetam,dthetam=thetam*np.pi/180,dthetam*np.pi/180\n",
    "#chiamo l'angolo di rifressione thetar \n",
    "thetar,dthetar=thetam[0],dthetam[0]\n",
    "thetam,dthetam=thetam[1:],dthetam[1:]\n",
    "\n",
    "#calcolo le x e gli errori sulla x\n",
    "x,dx=np.empty(len(thetam)),np.empty(len(dthetam))\n",
    "x=cosa(thetam,thetar,zero)\n",
    "for i in range(len(dx)):\n",
    "    dx[i]=np.sqrt(mz.dy(cosa,[thetam[i],thetar,zero],[dthetam[i],dthetar,dzero]))\n",
    "\n",
    "#lunghezze d'onda, fonte: http://hyperphysics.phy-astr.gsu.edu/hbase/quantum/atspect2.html\n",
    "lambdai=[435.835,491.604,546.074]\n",
    "pl.errorbar(lambdai,x,yerr=dx,fmt=' ')\n",
    "\n",
    "popt,pcov=curve_fit(lin,lambdai,x,sigma=dx)\n",
    "print(popt[0],pcov[0][0])\n",
    "d,dd=1/popt[0],mz.drapp(1,0,popt[0],np.sqrt(pcov[0][0]))\n",
    "print(d,dd)\n",
    "print(mz.ne_tex(d,dd))\n",
    "x=np.linspace(430,550,10)\n",
    "pl.plot(x,lin(x,*popt))\n",
    "pl.ylabel('sin(theta_i)-sin(theta_r)')\n",
    "pl.xlabel('lambda[nm]')\n",
    "#pl.savefig('passo_reticolare.eps',format='eps')\n",
    "pl.savefig('passo_reticolare.png')"
   ]
  },
  {
   "cell_type": "markdown",
   "metadata": {},
   "source": [
    "$d[\\sin(\\theta_r)-\\sin(\\theta_i)]=\\lambda$"
   ]
  },
  {
   "cell_type": "code",
   "execution_count": 40,
   "metadata": {},
   "outputs": [
    {
     "name": "stdout",
     "output_type": "stream",
     "text": [
      "[435.67683594 438.85896398 487.97034319]\n",
      "['$(4.36 \\\\pm 0.02) \\\\times 10^{-7}$' '$(4.39 \\\\pm 0.02) \\\\times 10^{-7}$'\n",
      " '$(4.88 \\\\pm 0.02) \\\\times 10^{-7}$' '$(5.49 \\\\pm 0.02) \\\\times 10^{-7}$'\n",
      " '$(5.50 \\\\pm 0.02) \\\\times 10^{-7}$' '$(6.19 \\\\pm 0.03) \\\\times 10^{-7}$'\n",
      " '$(6.59 \\\\pm 0.03) \\\\times 10^{-7}$' '$(4.36 \\\\pm 0.02) \\\\times 10^{-7}$'\n",
      " '$(4.39 \\\\pm 0.02) \\\\times 10^{-7}$' '$(4.88 \\\\pm 0.02) \\\\times 10^{-7}$']\n"
     ]
    },
    {
     "data": {
      "image/png": "[encoded data removed]",
      "text/plain": [
       "<Figure size 432x288 with 1 Axes>"
      ]
     },
     "metadata": {},
     "output_type": "display_data"
    }
   ],
   "source": [
    "\n",
    "\n",
    "#prendo i dati dall file \"Idrogeno.csv\" e rimuovo la prima colonna\n",
    "dati=np.transpose(np.transpose(np.genfromtxt('Idrogeno.csv',delimiter=','))[1:])\n",
    "\n",
    "\n",
    "\n",
    "#inizializzo gli array di numpy\n",
    "theta,dtheta=np.empty(len(dati)),np.empty(len(dati))\n",
    "#gli assegno i valori\n",
    "for i in range(len(dati)):\n",
    "    theta[i]=dati[i][0]+dati[i][1]/60 \n",
    "    dtheta[i]=dati[i][2]/60\n",
    "        \n",
    "#converto theta da gradi in radianti\n",
    "theta,dtheta=theta*np.pi/180,dtheta*np.pi/180\n",
    "#chiamo l'angolo di rifressione thetar \n",
    "thetar,dthetar=theta[0],dtheta[0]\n",
    "theta,dtheta=theta[1:],dtheta[1:]\n",
    "\n",
    "#calcolo la lunghezza d'onda secondo la formula del professor forti per le rifrazioni del primo ordine\n",
    "lung=func(theta,thetar,zero,d)\n",
    "#calcolol'errore associata all lunghezza d'onda con la funzione \"dy\" di menzalib\n",
    "dlung=np.empty(len(lung))\n",
    "for i in range(len(lung)):\n",
    "    dlung[i]=np.sqrt(mz.dy(func,np.array([theta[i],thetar,zero,d]),([dtheta[i],dthetar,dzero,dd])))\n",
    "\n",
    "lung[-3:],dlung[-3:]=lung[-3:]/2,dlung[-3:]/2\n",
    "print(lung[-3:])\n",
    "#questo serve per colorare le linee\n",
    "#colore=['purple','purple','blue','limegreen','limegreen','red','red']\n",
    "#for i in range (len(colore)): print(Colore(lung[i]))\n",
    "\n",
    "#plotto\n",
    "with pl.style.context(('dark_background')):\n",
    "    for i in range(len(lung[:-3])):\n",
    "        pl.plot([lung[i],lung[i]],[1,-1],color=Colore(lung[i]))\n",
    "    pl.yticks([])\n",
    "    pl.xlabel('Lunghezza d\\'onda[nm]')\n",
    "    #pl.show()\n",
    "    pl.savefig('idrogeno.eps',format='eps')\n",
    "\n",
    "    lung,dlung=lung*1e-9,dlung*1e-9\n",
    "    freq,dfreq=c/lung,mz.drapp(c,0,lung,dlung)\n",
    "    print(mz.ne_tex(lung,dlung))\n"
   ]
  },
  {
   "cell_type": "markdown",
   "metadata": {},
   "source": [
    "# Stima del numero di Rydemberg R\n",
    "\n",
    "$\\frac 1 \\lambda=R\\Big(\\frac 1 {n_1^2}-\\frac 1 {n_2^2}\\Big)$"
   ]
  },
  {
   "cell_type": "code",
   "execution_count": 6,
   "metadata": {},
   "outputs": [
    {
     "data": {
      "image/png": "[encoded data removed]",
      "text/plain": [
       "<Figure size 432x288 with 1 Axes>"
      ]
     },
     "metadata": {},
     "output_type": "display_data"
    }
   ],
   "source": [
    "Rth=1.09737e7#m^-1  \n",
    "with pl.style.context(('dark_background')):\n",
    "    for i in range(len(lung)):\n",
    "        pl.plot([lung[i]-dlung[i],lung[i]-dlung[i]],[1,-1],color=Colore(lung[i]*1e9))\n",
    "    for i in range(1,100):\n",
    "        for j in range(i+1,i+200):\n",
    "            l=1/(Rth*(1/i**2-1/j**2))\n",
    "            if l<lung.max()+2e-8 and l>lung.min()-2e-8:pl.plot([l,l],[1,-1],color='white')"
   ]
  },
  {
   "cell_type": "code",
   "execution_count": 58,
   "metadata": {},
   "outputs": [
    {
     "name": "stdout",
     "output_type": "stream",
     "text": [
      "[['$(1.0925 \\\\pm 0.0002) \\\\times 10^{7}$']] [['$1.0974 \\\\times 10^{7}$']]\n",
      "[-21.6322761]\n"
     ]
    },
    {
     "data": {
      "image/png": "[encoded data removed]",
      "text/plain": [
       "<Figure size 432x288 with 1 Axes>"
      ]
     },
     "metadata": {
      "needs_background": "light"
     },
     "output_type": "display_data"
    }
   ],
   "source": [
    "pl.close()\n",
    "lunghezze=[lung[0],lung[2],lung[-4],lung[-3],lung[-1]]\n",
    "dlunghezze=[dlung[0],dlung[2],dlung[-4],dlung[-3],dlung[-1]]\n",
    "numero=[5,4,3,5,4]\n",
    "\n",
    "def Ryd(n,R):\n",
    "    return 1/(R*(1/4-1/n**2))\n",
    "\n",
    "pl.errorbar(numero,lunghezze,dlunghezze,fmt=' ')\n",
    "popt,pcov=curve_fit(Ryd,numero,lunghezze,sigma=dlunghezze)\n",
    "x=np.linspace(2.9,5.1,100)\n",
    "y=Ryd(x,popt)\n",
    "pl.plot(x,y)\n",
    "print(mz.ne_tex(popt,np.sqrt(pcov)),mz.ns_tex(Rth,nult=np.sqrt(pcov)))\n",
    "print((popt-Rth)/np.sqrt(pcov[0][0]))"
   ]
  },
  {
   "cell_type": "code",
   "execution_count": null,
   "metadata": {},
   "outputs": [],
   "source": []
  }
 ],
 "metadata": {
  "kernelspec": {
   "display_name": "Python 3",
   "language": "python",
   "name": "python3"
  }
 },
 "nbformat": 4,
 "nbformat_minor": 2
}

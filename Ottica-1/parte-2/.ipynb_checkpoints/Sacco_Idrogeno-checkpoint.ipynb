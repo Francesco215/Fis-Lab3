{
 "cells": [
  {
   "cell_type": "code",
   "execution_count": 156,
   "metadata": {},
   "outputs": [],
   "source": [
    "import numpy as np\n",
    "import menzalib as mz\n",
    "import pylab as pl\n",
    "from scipy.optimize import curve_fit\n",
    "from inspect import signature"
   ]
  },
  {
   "cell_type": "code",
   "execution_count": 186,
   "metadata": {},
   "outputs": [],
   "source": [
    "def lin(x,a,b):\n",
    "    return a*x+b\n",
    "\n",
    "def dsen(x,dx):\n",
    "    return dx*np.cos(x)\n",
    "dsin=np.vectorize(dsen)\n",
    "\n",
    "\n",
    "\n",
    "\n",
    "\n",
    "def Colore(wavelength, gamma=0.8):\n",
    "\n",
    "    '''This converts a given wavelength of light to an \n",
    "    approximate RGB color value. The wavelength must be given\n",
    "    in nanometers in the range from 380 nm through 750 nm\n",
    "    (789 THz through 400 THz).\n",
    "\n",
    "    Based on code by Dan Bruton\n",
    "    http://www.physics.sfasu.edu/astro/color/spectra.html\n",
    "    '''\n",
    "\n",
    "    wavelength = float(wavelength)\n",
    "    if wavelength >= 380 and wavelength <= 440:\n",
    "        attenuation = 0.3 + 0.7 * (wavelength - 380) / (440 - 380)\n",
    "        R = ((-(wavelength - 440) / (440 - 380)) * attenuation) ** gamma\n",
    "        G = 0.0\n",
    "        B = (1.0 * attenuation) ** gamma\n",
    "    elif wavelength >= 440 and wavelength <= 490:\n",
    "        R = 0.0\n",
    "        G = ((wavelength - 440) / (490 - 440)) ** gamma\n",
    "        B = 1.0\n",
    "    elif wavelength >= 490 and wavelength <= 510:\n",
    "        R = 0.0\n",
    "        G = 1.0\n",
    "        B = (-(wavelength - 510) / (510 - 490)) ** gamma\n",
    "    elif wavelength >= 510 and wavelength <= 580:\n",
    "        R = ((wavelength - 510) / (580 - 510)) ** gamma\n",
    "        G = 1.0\n",
    "        B = 0.0\n",
    "    elif wavelength >= 580 and wavelength <= 645:\n",
    "        R = 1.0\n",
    "        G = (-(wavelength - 645) / (645 - 580)) ** gamma\n",
    "        B = 0.0\n",
    "    elif wavelength >= 645 and wavelength <= 750:\n",
    "        attenuation = 0.3 + 0.7 * (750 - wavelength) / (750 - 645)\n",
    "        R = (1.0 * attenuation) ** gamma\n",
    "        G = 0.0\n",
    "        B = 0.0\n",
    "    else:\n",
    "        R = 0.0\n",
    "        G = 0.0\n",
    "        B = 0.0\n",
    "    R *= 255\n",
    "    G *= 255\n",
    "    B *= 255\n",
    "    return (int(R), int(G), int(B))\n"
   ]
  },
  {
   "cell_type": "markdown",
   "metadata": {},
   "source": [
    "# Determinazione di d\n",
    "Alla fine l'ha fatto Davide, e gli esce $d=836.019\\pm0.434$"
   ]
  },
  {
   "cell_type": "code",
   "execution_count": 196,
   "metadata": {},
   "outputs": [
    {
     "name": "stdout",
     "output_type": "stream",
     "text": [
      "[15313.02305139  1600.52995699] [[5840.99518332  452.18278357]\n",
      " [ 452.18278357   37.73100187]]\n"
     ]
    },
    {
     "data": {
      "image/png": "[encoded data removed]",
      "text/plain": [
       "<Figure size 432x288 with 1 Axes>"
      ]
     },
     "metadata": {
      "needs_background": "light"
     },
     "output_type": "display_data"
    }
   ],
   "source": [
    "zero,dzero=168.63,0.02\n",
    "dati=np.transpose(np.transpose(np.genfromtxt('Mercurio.csv',delimiter=','))[1:])\n",
    "thetam,dthetam=np.empty(len(dati)),np.empty(len(dati))\n",
    "for i in range(len(dati)):\n",
    "    thetam[i]=dati[i][0]+dati[i][1]/60-zero\n",
    "    if dati[i][2]!=2.5: dthetam[i]=0.5/60\n",
    "    else: dthetam[i]=2.5/60\n",
    "    thetam[i],dthetam[i]=(thetam[i]-zero)*2*np.pi/360,np.sqrt(dthetam[i]**2+dzero**2)*2*np.pi/360\n",
    "thetar,dthetar=thetam[0],dthetam[0]\n",
    "thetam,dthetam=thetam[1:],dthetam[1:]\n",
    "#lambdai=[404.7*3,435.8*2,546.074*1]\n",
    "lambdai=np.array([404.7*2,435.8*1,546.074*0])\n",
    "#lambdai=[404.7,435.8,546.074]\n",
    "x=np.sin(thetar)-np.sin(thetam)\n",
    "dx=np.sqrt(dsin(thetar,dthetar)**2+dsin(thetam,dthetam)**2)\n",
    "pl.errorbar(x,lambdai,xerr=dx,fmt=' ')\n",
    "popt,pcov=mz.curve_fitdx(lin,x,lambdai,dx=dthetam)\n",
    "x=np.linspace(-0.11,-0.05,10)\n",
    "y=lin(x,*popt)\n",
    "pl.plot(x,y)\n",
    "pl.xlabel('sen(theta_i) - sen(theta_m)')\n",
    "pl.ylabel('m*lambda')\n",
    "pl.savefig('strano.png')\n",
    "print(popt,pcov)\n",
    "pl.close()\n"
   ]
  },
  {
   "cell_type": "markdown",
   "metadata": {},
   "source": [
    "$d[\\sin(\\theta_r)-\\sin(\\theta_i)]=\\lambda$"
   ]
  },
  {
   "cell_type": "code",
   "execution_count": 206,
   "metadata": {},
   "outputs": [
    {
     "name": "stdout",
     "output_type": "stream",
     "text": [
      "$(2.5 \\pm 0.1) \\times 10^{2}$\n",
      "$(2.5 \\pm 0.1) \\times 10^{2}$\n",
      "$(3.0 \\pm 0.2) \\times 10^{2}$\n",
      "$(3.6 \\pm 0.2) \\times 10^{2}$\n",
      "$(3.6 \\pm 0.2) \\times 10^{2}$\n",
      "$(4.3 \\pm 0.2) \\times 10^{2}$\n",
      "$(4.7 \\pm 0.2) \\times 10^{2}$\n"
     ]
    },
    {
     "data": {
      "image/png": "[encoded data removed]",
      "text/plain": [
       "<Figure size 432x288 with 1 Axes>"
      ]
     },
     "metadata": {
      "needs_background": "light"
     },
     "output_type": "display_data"
    }
   ],
   "source": [
    "zero,dzero=168.63,0.02\n",
    "d,dd=836.019,0.434\n",
    "\n",
    "#prendo i dati dall file \"Idrogeno.csv\" e rimuovo la prima colonna\n",
    "dati=np.transpose(np.transpose(np.genfromtxt('Idrogeno.csv',delimiter=','))[1:])\n",
    "\n",
    "#inizializzo gli array di numpy\n",
    "theta,dtheta=np.empty(len(dati)),np.empty(len(dati))\n",
    "#gli assegno i valori\n",
    "for i in range(len(dati)):\n",
    "    theta[i]=dati[i][0]+dati[i][1]/60-zero \n",
    "    if dati[i][2]!=2.5: dtheta[i]=0.5/60\n",
    "    else: dtheta[i]=2.5/60\n",
    "\n",
    "#converto theta da gradi in radianti\n",
    "theta,dtheta=theta*np.pi/180,dtheta*np.pi/180\n",
    "#chiamo l'angolo di rifressione thetar \n",
    "thetar,dthetar=theta[0],dtheta[0]\n",
    "theta,dtheta=theta[1:],dtheta[1:]\n",
    "\n",
    "#calcolo la lunghezza d'onda secondo la formula del professor forti per le rifrazioni del primo ordine\n",
    "def func(theta,thetar,theta0,d):\n",
    "    return d*(np.sin(thetar-theta0)-np.sin(theta-theta0))\n",
    "\n",
    "lung=func(theta,thetar,zero,d)[:-3]\n",
    "#calcolol'errore associata all lunghezza d'onda con la funzione \"dy\" di menzalib\n",
    "dlung=np.empty(len(lung))\n",
    "for i in range(len(lung)):\n",
    "    dlung[i]=mz.dy(func,np.array([theta[i],thetar,zero,d]),([dtheta[i],dthetar,dzero,dd]))\n",
    "    print(mz.ne_tex(lung[i],dlung[i]))\n",
    "    \n",
    "#questo serve per colorare le linee\n",
    "colore=['purple','purple','blue','limegreen','limegreen','red','red']\n",
    "\n",
    "#plotto\n",
    "for i in range(len(lung)):\n",
    "    pl.plot([lung[i],lung[i]],[1,-1],color=colore[i])\n",
    "pl.xlabel('Lunghezza d\\'onda[nm]')\n",
    "pl.savefig('idrog.png')\n",
    "pl.show()"
   ]
  },
  {
   "cell_type": "code",
   "execution_count": null,
   "metadata": {},
   "outputs": [],
   "source": []
  }
 ],
 "metadata": {
  "kernelspec": {
   "display_name": "Python 3",
   "language": "python",
   "name": "python3"
  }
 },
 "nbformat": 4,
 "nbformat_minor": 2
}

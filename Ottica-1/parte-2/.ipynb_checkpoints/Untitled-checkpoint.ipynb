{
 "cells": [
  {
   "cell_type": "code",
   "execution_count": null,
   "metadata": {},
   "outputs": [],
   "source": [
    "import numpy as np\n",
    "import matplotlib.pyplot as plt\n",
    "from scipy.optimize import curve_fit \n",
    "zero = 168.63; dzero = 0.02\n",
    "grad = np.array([225.07, 273.7])\n",
    "dgrad = np.array([0.04,0.04])\n",
    "rad_i = (np.pi - (grad[0]-zero)/57.32)/2; drad_i = dzero/(57.32*2)\n",
    "rad_d = np.pi - rad_i - (grad - zero)/57.32; drad_d = (dgrad - dzero)/57.32\n",
    "lamb = 546.074\n",
    "def f(x,d):\n",
    "\treturn np.sin(rad_i) - (x*lamb)/d\n",
    "m = np.array([0,1]); dm = np.array([0,0])\n",
    "m1 = np.array([-0.15, 0, 1, 1.15])\n",
    "\n",
    "y = np.sin(rad_d); dy = np.abs(np.cos(rad_d)*drad_d)\n",
    "err = (0.02*lamb)/((y[1] - y[0])**2)\n",
    "print err\n",
    "print (err)\n",
    "popt, pcov = curve_fit(f, m, y, sigma = dy, absolute_sigma = True)\n",
    "print \"%g +- %g\" % (popt, np.sqrt(pcov))\n",
    "print (\"%g +- %g\" % (popt, np.sqrt(pcov)))\n",
    "plt.errorbar(m,y,dy,dm, linestyle='', color='red')\n",
    "plt.plot(m1, f(m1, *popt), color='blue')\n",
    "plt.xlabel(r'$m$')"
   ]
  }
 ],
 "metadata": {
  "kernelspec": {
   "display_name": "Python 3",
   "language": "python",
   "name": "python3"
  },
  "language_info": {
   "codemirror_mode": {
    "name": "ipython",
    "version": 3
   },
   "file_extension": ".py",
   "mimetype": "text/x-python",
   "name": "python",
   "nbconvert_exporter": "python",
   "pygments_lexer": "ipython3",
   "version": "3.7.2"
  }
 },
 "nbformat": 4,
 "nbformat_minor": 2
}

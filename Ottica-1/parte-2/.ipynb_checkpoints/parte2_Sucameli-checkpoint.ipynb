{
 "cells": [
  {
   "cell_type": "code",
   "execution_count": 2,
   "metadata": {},
   "outputs": [],
   "source": [
    "import numpy as np\n",
    "import pylab as pl\n",
    "from scipy.optimize import curve_fit"
   ]
  },
  {
   "cell_type": "code",
   "execution_count": 3,
   "metadata": {},
   "outputs": [],
   "source": [
    "def lineare (x, m, q):\n",
    "    return m*x + q\n",
    "\n"
   ]
  },
  {
   "cell_type": "code",
   "execution_count": 12,
   "metadata": {},
   "outputs": [
    {
     "name": "stdout",
     "output_type": "stream",
     "text": [
      "833.7590276421033 0.6975383281338161\n",
      "[1.69520921 1.69840898 1.76109539 1.83672633 1.83803532 1.92152024\n",
      " 1.96995313] 0.9852965403925324\n",
      "[434.48329521 436.97382363 486.34810921 547.19807608 548.26169499\n",
      " 616.67738953 656.77540457] [0.51107207 0.51307586 0.55269474 0.60124909 0.60209515 0.6563288\n",
      " 0.68794399]\n",
      "10967800.0\n"
     ]
    }
   ],
   "source": [
    "#STIMA DI d (come nel testo)\n",
    "lun_verde_Hg_teo = 546.074   #nm\n",
    "zero = 168.63\n",
    "d_zero = 0.02\n",
    "theta_1 = 273. + (46.5/60)\n",
    "#theta_0 = 245. + (4./60.)\n",
    "theta_0 = 225. + (4./60.)\n",
    "#print(theta_0 - zero , theta_1 - zero )\n",
    "d_theta = 2.5*(1./60.)*(np.pi/180.)   #ricontrollare questo valore ed il fatto che all'inizio il sistema nn era ben messo a fuoco...\n",
    "theta_0 = (theta_0 - zero)*(np.pi/180.)\n",
    "theta_1 = (theta_1 - zero)*(np.pi/180.)          #conversione in radianti\n",
    "d = lun_verde_Hg_teo/( np.cos(theta_0/2.) - np.cos( (theta_0/2.) - theta_1  ) )\n",
    "d_d = d_theta*d*np.sqrt( (1./4)*( np.sin(theta_0/2.) - np.sin(theta_0 - theta_1) )**2. + ( np.sin(theta_0/2. - theta_1) )**2. )\n",
    "print(d, d_d)\n",
    "\n",
    "#STIMA DI d MIGLIORE con fit su tutti le righe dell'Hg\n",
    "\n",
    "\n",
    "\n",
    "#STIMA DELLA COSTANTE DI RYDBERG\n",
    "theta_0 = 225. + (5./60.)\n",
    "theta_0 = (theta_0 - zero)*(np.pi/180.)#conversione in radianti\n",
    "d_theta_0 = (2.5/60.)*(np.pi/180.)\n",
    "primi = np.array([265., 265., 269., 273., 273., 278., 281.])\n",
    "secondi = np.array([45.5, 56.5, 32., 52., 56.5, 43.5, 30.])   \n",
    "theta = primi + secondi/60.\n",
    "#print(theta)\n",
    "#d = np.array([d]*len(theta))\n",
    "#d_d = np.array([d_d]*len(theta))\n",
    "zero = np.array([zero]*len(theta))\n",
    "#print(zero)\n",
    "theta = (theta - zero)*(np.pi/180.)   #conversione in radianti\n",
    "print(theta, theta_0)\n",
    "d_theta = np.array([(0.5/60.)*(np.pi/180.)]*len(theta))   #rivedere...\n",
    "lun = d*( np.cos(theta_0/2.) - np.cos( theta_0/2. - theta) )\n",
    "d_lun = lun*np.sqrt( (d_d/d)**2. +  ( (1./4.)*(d_theta_0**2.)*( np.sin(theta_0/2.) - np.sin(theta_0 - theta) )**2. + (d_theta**2.)*( np.sin(theta_0/2. - theta) )**2.  )  /( np.cos(theta_0/2.) - np.cos( (theta_0/2.) - theta  ) )**2.  ) \n",
    "print(lun, d_lun)\n",
    "\n",
    "\n",
    "'''\n",
    "rydberg_teo = 1.09678*1e7 #Da notare che il valore per H diverso valore ad infinito (massa ridotta da considerare)..\n",
    "for n1 in range (1, 100):\n",
    "    for n2 in range (1, 100):\n",
    "        teo = 1./( rydberg_teo*( 1./n1**2. - 1./n2**2. ) )\n",
    "        for i range ( 0, len(lun) ):\n",
    "            if ( lun[i] > teo - 2*d_lun[i]  lun[i]   \n",
    "\n",
    "'''\n",
    "\n"
   ]
  },
  {
   "cell_type": "code",
   "execution_count": null,
   "metadata": {},
   "outputs": [],
   "source": []
  },
  {
   "cell_type": "code",
   "execution_count": null,
   "metadata": {},
   "outputs": [],
   "source": []
  }
 ],
 "metadata": {
  "kernelspec": {
   "display_name": "Python 3",
   "language": "python",
   "name": "python3"
  },
  "language_info": {
   "codemirror_mode": {
    "name": "ipython",
    "version": 3
   },
   "file_extension": ".py",
   "mimetype": "text/x-python",
   "name": "python",
   "nbconvert_exporter": "python",
   "pygments_lexer": "ipython3",
   "version": "3.7.2"
  }
 },
 "nbformat": 4,
 "nbformat_minor": 2
}

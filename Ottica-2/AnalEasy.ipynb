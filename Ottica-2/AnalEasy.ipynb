{
 "cells": [
  {
   "cell_type": "code",
   "execution_count": 6,
   "metadata": {},
   "outputs": [],
   "source": [
    "import numpy as np\n",
    "import menzalib as mz"
   ]
  },
  {
   "cell_type": "markdown",
   "metadata": {},
   "source": [
    "$\\frac{h_i}D=\\tan(\\theta_i)$\n",
    "\n",
    "altezza specchio $=3.2\\pm0.2 cm$\n",
    "distanza specchio - punto incidenza $=1.27\\pm0.05 m$"
   ]
  },
  {
   "cell_type": "code",
   "execution_count": 2,
   "metadata": {},
   "outputs": [],
   "source": [
    "def atan(h,D):\n",
    "    return np.arctan(h/D)"
   ]
  },
  {
   "cell_type": "code",
   "execution_count": 7,
   "metadata": {},
   "outputs": [],
   "source": [
    "D,dD=[2.22,0.05] #distanza\n",
    "for i in range(3):\n",
    "    h=np.genfromtxt('dati/A'+str(i+1)+'.txt', unpack='True')*1e-3\n",
    "    dh=np.ones(len(h))*1e-3\n",
    "    theta=np.arctan(h/D)\n",
    "    dtheta=np.empty(len(theta))\n",
    "    for j in range(len(theta)):\n",
    "        dtheta=mz.dy(atan,[h[j],D],[dh[j],dD])"
   ]
  },
  {
   "cell_type": "code",
   "execution_count": 13,
   "metadata": {},
   "outputs": [
    {
     "data": {
      "text/plain": [
       "87.45510311999178"
      ]
     },
     "execution_count": 13,
     "metadata": {},
     "output_type": "execute_result"
    }
   ],
   "source": [
    "mz.dprod(0.176,50,0.176*0.1,10)*2000/45"
   ]
  },
  {
   "cell_type": "code",
   "execution_count": null,
   "metadata": {},
   "outputs": [],
   "source": []
  }
 ],
 "metadata": {
  "kernelspec": {
   "display_name": "Python 3",
   "language": "python",
   "name": "python3"
  },
  "language_info": {
   "codemirror_mode": {
    "name": "ipython",
    "version": 3
   },
   "file_extension": ".py",
   "mimetype": "text/x-python",
   "name": "python",
   "nbconvert_exporter": "python",
   "pygments_lexer": "ipython3",
   "version": "3.7.1"
  }
 },
 "nbformat": 4,
 "nbformat_minor": 2
}

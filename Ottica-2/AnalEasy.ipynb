{
 "cells": [
  {
   "cell_type": "code",
   "execution_count": 2,
   "metadata": {},
   "outputs": [],
   "source": [
    "import numpy as np\n",
    "import menzalib as mz"
   ]
  },
  {
   "cell_type": "markdown",
   "metadata": {},
   "source": [
    "$\\frac{h_i}D=\\tan(\\theta_i)$\n",
    "\n",
    "altezza specchio $=3.2\\pm0.2 cm$\n",
    "distanza specchio - punto incidenza $=1.27\\pm0.05 m$"
   ]
  },
  {
   "cell_type": "code",
   "execution_count": 2,
   "metadata": {},
   "outputs": [],
   "source": [
    "def atan(h,D):\n",
    "    return np.arctan(h/D)"
   ]
  },
  {
   "cell_type": "code",
   "execution_count": 7,
   "metadata": {},
   "outputs": [],
   "source": [
    "D,dD=[2.22,0.05] #distanza\n",
    "for i in range(3):\n",
    "    h=np.genfromtxt('dati/A'+str(i+1)+'.txt', unpack='True')*1e-3\n",
    "    dh=np.ones(len(h))*1e-3\n",
    "    theta=np.arctan(h/D)\n",
    "    dtheta=np.empty(len(theta))\n",
    "    for j in range(len(theta)):\n",
    "        dtheta=mz.dy(atan,[h[j],D],[dh[j],dD])"
   ]
  },
  {
   "cell_type": "code",
   "execution_count": 9,
   "metadata": {},
   "outputs": [
    {
     "name": "stdout",
     "output_type": "stream",
     "text": [
      "$(5.3$ $\\pm$ $0.4)\\times 10^{2}$\n",
      "7.265586160186103\n"
     ]
    }
   ],
   "source": [
    "mz.drapp(110*632.8/2e3,0,185,5)\n",
    "x=2*70*188/50\n",
    "dx=mz.dprod(70,10,0.188,0.005)*1000/50\n",
    "print(mz.ne_tex(x,dx))\n",
    "print(dx*100/x)"
   ]
  },
  {
   "cell_type": "code",
   "execution_count": null,
   "metadata": {},
   "outputs": [],
   "source": []
  },
  {
   "cell_type": "markdown",
   "metadata": {},
   "source": []
  },
  {
   "cell_type": "code",
   "execution_count": null,
   "metadata": {},
   "outputs": [],
   "source": []
  }
 ],
 "metadata": {
  "kernelspec": {
   "display_name": "Python 3",
   "language": "python",
   "name": "python3"
  },
  "language_info": {
   "codemirror_mode": {
    "name": "ipython",
    "version": 3
   },
   "file_extension": ".py",
   "mimetype": "text/x-python",
   "name": "python",
   "nbconvert_exporter": "python",
   "pygments_lexer": "ipython3",
   "version": "3.7.1"
  }
 },
 "nbformat": 4,
 "nbformat_minor": 2
}

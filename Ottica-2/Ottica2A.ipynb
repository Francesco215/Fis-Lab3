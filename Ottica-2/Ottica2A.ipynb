{
 "cells": [
  {
   "cell_type": "code",
   "execution_count": 31,
   "metadata": {},
   "outputs": [],
   "source": [
    "import numpy as np\n",
    "import pylab as pl\n",
    "from scipy.optimize import curve_fit"
   ]
  },
  {
   "cell_type": "code",
   "execution_count": null,
   "metadata": {
    "scrolled": true
   },
   "outputs": [
    {
     "name": "stdout",
     "output_type": "stream",
     "text": [
      " $\\lambda$ =  687.783217155862 $\\pm$ 7.14702259640822\n"
     ]
    },
    {
     "data": {
      "image/png": "[encoded data removed]",
      "text/plain": [
       "<Figure size 432x288 with 1 Axes>"
      ]
     },
     "metadata": {
      "needs_background": "light"
     },
     "output_type": "display_data"
    }
   ],
   "source": [
    "def lineare (x, m, q):\n",
    "    return m*x + q\n",
    "\n",
    "def weighted_average(y, dy):\n",
    "    \"\"\"Weighted average of a list of measurement.\n",
    "    \"\"\"\n",
    "    S = Sy = 0.\n",
    "    for yi, dyi in zip(y, dy):\n",
    "        wi = (1./dyi)**2.\n",
    "        S += wi\n",
    "        Sy += wi*yi\n",
    "    q = Sy/S\n",
    "    dq = (1./S)**0.5\n",
    "    return q, dq\n",
    "\n",
    "#DATI\n",
    "D = 2.22   \n",
    "dD = 0.05      #metri\n",
    "dh = 1         #mm \n",
    "passo_ret = 1  #mm assunto senza errore\n",
    "lung_onda = np.array([0.]*3)\n",
    "d_lung_onda = np.array([0.]*3)\n",
    "nome = np.array(['dati/A1.txt', 'dati/A2.txt', 'dati/A3.txt'])\n",
    "immagini = np.array (['immagini/fit_A1.eps', 'immagini/fit_A2.eps', 'immagini/fit_A3.eps', 'immagini/media'])\n",
    "valore_teorico = 632.8   #nm lunghezza d'onda nominale del laser HeNe\n",
    "\n",
    "for i in range (0,3):\n",
    "    h = np.loadtxt ( nome[i] , unpack = 'True')\n",
    "    m = np.linspace (0, len(h)-1, len(h) , dtype = int ) #m parte da zero, il primo punto che abbiamo preso è quello riflesso\n",
    "    #MASK SU DATI PRIMA PARTE\n",
    "    \"\"\"\n",
    "    mask = (m < 4) | (m > 10 )\n",
    "    m = m[mask]\n",
    "    print (m)\n",
    "    mask = (h < 166) | (h > 270 )\n",
    "    h = h[mask]\n",
    "    print(h)\n",
    "    \"\"\"\n",
    "    tan_theta_n = (h/D)/1000.\n",
    "    d_tan_theta_n = tan_theta_n*np.sqrt( (dh/h)**2. + (dD/D)**2. )\n",
    "    sin_theta_d = 1./np.sqrt(1. + (tan_theta_n)**2. )\n",
    "    d_sin_theta_d = ( ( 1. + (tan_theta_n)**2. )**(-1.5) )*tan_theta_n*d_tan_theta_n\n",
    "    #print ( (d_sin_theta_d/sin_theta_d)*100. ) \n",
    "    popt, pcov = curve_fit (lineare, m , sin_theta_d , sigma = d_sin_theta_d , absolute_sigma = 'True' ) #absolute sigma?\n",
    "    print ( ' $\\lambda$ = ', (-1.)*popt[0]*10**6. , '$\\pm$',  np.sqrt( pcov.diagonal() )[0]*10**6. ) \n",
    "    pl.errorbar (m , sin_theta_d , d_sin_theta_d, fmt = '.')\n",
    "    x = np.linspace (-1. , len(h) + 1 , 1000)\n",
    "    pl.plot ( x, lineare (x, *popt) )\n",
    "    #pl.savefig(immagini[i],format='eps')\n",
    "    pl.show()\n",
    "    \n",
    "    \n",
    "    #RESIDUI NORMALIZZATI\n",
    "    pl.errorbar( m, ( sin_theta_d - lineare (m, *popt) )/d_sin_theta_d , d_sin_theta_d/d_sin_theta_d , fmt = '.')  \n",
    "    pl.show()\n",
    "    \n",
    "    #calcolo chi_2 serve??\n",
    "    \n",
    "    lung_onda[i] = (-1.)*popt[0]*10**6.\n",
    "    d_lung_onda[i] = np.sqrt( pcov.diagonal() )[0]*10**6.\n",
    "    #print ( (d_sin_theta_d/sin_theta_d)*10**3. )\n",
    "    \n",
    "#CALCOLO MEDIA \n",
    "media, d_media = weighted_average( lung_onda, d_lung_onda)\n",
    "print ( 'media = ', media, '$\\pm$',  d_media )\n",
    "\n",
    "n = np.array ([1,2,3])\n",
    "pl.errorbar ( n, lung_onda, d_lung_onda, fmt = '.' )\n",
    "pl.plot ( n, np.array([media]*3) )\n",
    "pl.plot ( n, np.array([media + d_media]*3), linestyle = 'dashed' )\n",
    "pl.plot ( n, np.array([media - d_media]*3), linestyle = 'dashed')    #come si fa insieme? risolvere problema\n",
    "pl.plot ( n, np.array([valore_teorico]*3), linestyle = '-.' )      #sembra che nn prende dash-dot e qualcosa nn funzionava...\n",
    "#pl.savefig (immagini[3], format = 'eps')\n",
    "pl.show()\n",
    "\n",
    "\n",
    "\n",
    "    \n",
    "    \n",
    "\n",
    "\n"
   ]
  },
  {
   "cell_type": "code",
   "execution_count": 30,
   "metadata": {},
   "outputs": [],
   "source": []
  },
  {
   "cell_type": "markdown",
   "metadata": {},
   "source": [
    "Perchè A_1 sembra totalmente scazzato????? A\n",
    "SOVRASTIMA ERRORI? GUARDATE GRAFICO DEI RESIDUI, CMQ PER I PRIMI DATI NON TORNA NIENTE!\n",
    "Nell'ultimo grafico linea punto-linea viola è il valore teorico, la linea arancione è il valore medio e le linee tratteggiate vicine i valori a 1 deviazione standard. Ho provato anche a fare qualche mask per filtrare i dati del primo set di dati ma nnt.. \n"
   ]
  }
 ],
 "metadata": {
  "kernelspec": {
   "display_name": "Python 3",
   "language": "python",
   "name": "python3"
  },
  "language_info": {
   "codemirror_mode": {
    "name": "ipython",
    "version": 3
   },
   "file_extension": ".py",
   "mimetype": "text/x-python",
   "name": "python",
   "nbconvert_exporter": "python",
   "pygments_lexer": "ipython3",
   "version": "3.7.1"
  }
 },
 "nbformat": 4,
 "nbformat_minor": 2
}
